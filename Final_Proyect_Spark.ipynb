{
 "cells": [
  {
   "cell_type": "code",
   "execution_count": 7,
   "metadata": {
    "collapsed": false,
    "deletable": true,
    "editable": true
   },
   "outputs": [],
   "source": [
    "import pandas as pd\n",
    "import numpy as np\n",
    "import matplotlib.pyplot as plt\n",
    "import seaborn as sns\n",
    "import math\n",
    "import scipy as scipy\n",
    "import pyspark\n",
    "import matplotlib as mpl\n",
    "from sklearn import mixture\n",
    "from sklearn import ensemble\n",
    "from sklearn import cross_validation\n",
    "from matplotlib.patches import Circle, Rectangle, Arc\n",
    "from pyspark.ml.pipeline import Transformer\n",
    "from pyspark.ml.param.shared import HasInputCol, HasOutputCol, Param\n",
    "from pyspark import keyword_only\n",
    "from pyspark.sql import SQLContext, Row\n",
    "from pyspark.sql.functions import UserDefinedFunction\n",
    "from pyspark.sql.types import IntegerType, LongType, DoubleType, StringType , FloatType\n",
    "from pyspark.ml.feature import OneHotEncoder, StringIndexer\n",
    "from pyspark.ml import Pipeline\n",
    "from pyspark.ml.classification import DecisionTreeClassifier\n",
    "from pyspark.ml.linalg import Vectors\n",
    "from pyspark.ml.feature import VectorAssembler\n",
    "from pyspark.ml.feature import Normalizer\n",
    "from pyspark.sql.types import IntegerType, LongType, DoubleType, StringType\n",
    "from scipy.stats import ttest_ind\n",
    "from sklearn.cross_validation import train_test_split\n",
    "import pyspark\n",
    "#from xgboost import XGBClassifier\n"
   ]
  },
  {
   "cell_type": "code",
   "execution_count": 8,
   "metadata": {
    "collapsed": false,
    "deletable": true,
    "editable": true
   },
   "outputs": [],
   "source": [
    "sc = pyspark.SparkContext(master='local[*]')"
   ]
  },
  {
   "cell_type": "code",
   "execution_count": 9,
   "metadata": {
    "collapsed": false,
    "deletable": true,
    "editable": true
   },
   "outputs": [],
   "source": [
    "sqlContext = SQLContext(sc)"
   ]
  },
  {
   "cell_type": "code",
   "execution_count": 10,
   "metadata": {
    "collapsed": false,
    "deletable": true,
    "editable": true
   },
   "outputs": [
    {
     "ename": "SyntaxError",
     "evalue": "invalid syntax (<ipython-input-10-eeee2f2ae393>, line 1)",
     "output_type": "error",
     "traceback": [
      "\u001b[1;36m  File \u001b[1;32m\"<ipython-input-10-eeee2f2ae393>\"\u001b[1;36m, line \u001b[1;32m1\u001b[0m\n\u001b[1;33m    Users(/IvanBabic/Big_Data_Course_UM/Proyecto_Final/Kobe/trabajoFinal)\u001b[0m\n\u001b[1;37m          ^\u001b[0m\n\u001b[1;31mSyntaxError\u001b[0m\u001b[1;31m:\u001b[0m invalid syntax\n"
     ]
    }
   ],
   "source": [
    "/Users/IvanBabic/Big_Data_Course_UM/Proyecto_Final/Kobe/trabajoFinal"
   ]
  },
  {
   "cell_type": "code",
   "execution_count": 14,
   "metadata": {
    "collapsed": false,
    "deletable": true,
    "editable": true
   },
   "outputs": [],
   "source": [
    "path_to_file = '/home/jovyan/work/Proyecto_Final/Kobe/trabajoFinal/data.csv'"
   ]
  },
  {
   "cell_type": "code",
   "execution_count": 17,
   "metadata": {
    "collapsed": false,
    "deletable": true,
    "editable": true
   },
   "outputs": [],
   "source": [
    "raw_data_rdd = sc.textFile(path_to_file).map(lambda x: [y.strip() for y in x.split(',')])"
   ]
  },
  {
   "cell_type": "code",
   "execution_count": 19,
   "metadata": {
    "collapsed": false
   },
   "outputs": [
    {
     "data": {
      "text/plain": [
       "[[u'action_type',\n",
       "  u'combined_shot_type',\n",
       "  u'game_event_id',\n",
       "  u'game_id',\n",
       "  u'lat',\n",
       "  u'loc_x',\n",
       "  u'loc_y',\n",
       "  u'lon',\n",
       "  u'minutes_remaining',\n",
       "  u'period',\n",
       "  u'playoffs',\n",
       "  u'season',\n",
       "  u'seconds_remaining',\n",
       "  u'shot_distance',\n",
       "  u'shot_made_flag',\n",
       "  u'shot_type',\n",
       "  u'shot_zone_area',\n",
       "  u'shot_zone_basic',\n",
       "  u'shot_zone_range',\n",
       "  u'team_id',\n",
       "  u'team_name',\n",
       "  u'game_date',\n",
       "  u'matchup',\n",
       "  u'opponent',\n",
       "  u'shot_id'],\n",
       " [u'Jump Shot',\n",
       "  u'Jump Shot',\n",
       "  u'10',\n",
       "  u'20000012',\n",
       "  u'33.9723',\n",
       "  u'167',\n",
       "  u'72',\n",
       "  u'-118.1028',\n",
       "  u'10',\n",
       "  u'1',\n",
       "  u'0',\n",
       "  u'2000-01',\n",
       "  u'27',\n",
       "  u'18',\n",
       "  u'',\n",
       "  u'2PT Field Goal',\n",
       "  u'Right Side(R)',\n",
       "  u'Mid-Range',\n",
       "  u'16-24 ft.',\n",
       "  u'1610612747',\n",
       "  u'Los Angeles Lakers',\n",
       "  u'2000-10-31',\n",
       "  u'LAL @ POR',\n",
       "  u'POR',\n",
       "  u'1']]"
      ]
     },
     "execution_count": 19,
     "metadata": {},
     "output_type": "execute_result"
    }
   ],
   "source": [
    "raw_data_rdd.take(2)"
   ]
  },
  {
   "cell_type": "markdown",
   "metadata": {},
   "source": [
    "[[u'action_type',0\n",
    "  u'combined_shot_type',\n",
    "  u'game_event_id',\n",
    "  u'game_id',\n",
    "  u'lat',4\n",
    "  u'loc_x', 5 \n",
    "  u'loc_y', 6\n",
    "  u'lon',7\n",
    "  u'minutes_remaining',\n",
    "  u'period',\n",
    "  u'playoffs',\n",
    "  u'season',11\n",
    "  u'seconds_remaining',12\n",
    "  u'shot_distance',13\n",
    "  u'shot_made_flag',\n",
    "  u'shot_type',\n",
    "  u'shot_zone_area',\n",
    "  u'shot_zone_basic',\n",
    "  u'shot_zone_range',\n",
    "  u'team_id',19\n",
    "  u'team_name',20\n",
    "  u'game_date',21\n",
    "  u'matchup',\n",
    "  u'opponent',\n",
    "  u'shot_id'],\n",
    " [u'Jump Shot',0\n",
    "  u'Jump Shot',\n",
    "  u'10',\n",
    "  u'20000012',\n",
    "  u'33.9723',\n",
    "  u'167',\n",
    "  u'72',\n",
    "  u'-118.1028',7\n",
    "  u'10',\n",
    "  u'1',\n",
    "  u'0',10\n",
    "  u'2000-01',11\n",
    "  u'27',\n",
    "  u'18',13\n",
    "  u'',\n",
    "  u'2PT Field Goal',\n",
    "  u'Right Side(R)',\n",
    "  u'Mid-Range',\n",
    "  u'16-24 ft.',18\n",
    "  u'1610612747',\n",
    "  u'Los Angeles Lakers',\n",
    "  u'2000-10-31',21\n",
    "  u'LAL @ POR', 22\n",
    "  u'POR',\n",
    "  u'1']]\n",
    "  4 7 13 19 20 22"
   ]
  },
  {
   "cell_type": "code",
   "execution_count": 66,
   "metadata": {
    "collapsed": false
   },
   "outputs": [],
   "source": [
    "def local_trans(val):\n",
    "    res = 1\n",
    "    if '@' in val:\n",
    "        res = 0\n",
    "    return res\n",
    "\n",
    "def xy_to_rad(x,y):\n",
    "    rho = float(np.sqrt(x**2 + y**2))\n",
    "    phi = float(np.arctan2(y, x))\n",
    "    return [rho, phi]"
   ]
  },
  {
   "cell_type": "code",
   "execution_count": 69,
   "metadata": {
    "collapsed": false,
    "deletable": true,
    "editable": true
   },
   "outputs": [
    {
     "name": "stdout",
     "output_type": "stream",
     "text": [
      "22\n"
     ]
    }
   ],
   "source": [
    "header = raw_data_rdd.first()\n",
    "header_use = header[:4] + header[5:7] + header[8:13] + header[14:19] + [header[21]] + header[23:] + [\"local\", 'distance', 'angle(radians)'] #borramos   4 7 13 19 20 22\n",
    "print len(header_use)\n",
    "raw_data_df = raw_data_rdd.filter(lambda row : (row != header) and (row[14] != '')).map(lambda x: [x[0],x[1],int(x[2]),int(x[3]),int(x[5]),int(x[6]),int(x[8]),int(x[9]),int(x[10]),x[11],int(x[12]),int(x[14]),x[15],x[16],x[17],x[18],x[21],x[23],x[24],local_trans(x[22])] + xy_to_rad(int(x[5]),int(x[6])) ).toDF(header_use)\n"
   ]
  },
  {
   "cell_type": "code",
   "execution_count": 52,
   "metadata": {
    "collapsed": false,
    "deletable": true,
    "editable": true
   },
   "outputs": [
    {
     "name": "stdout",
     "output_type": "stream",
     "text": [
      "+-----------------+------------------+-------------+--------+-----+-----+-----------------+------+--------+-------+-----------------+-------------+--------------+--------------+--------------------+--------------------+---------------+----------+-----+--------+-------+\n",
      "|      action_type|combined_shot_type|game_event_id| game_id|loc_x|loc_y|minutes_remaining|period|playoffs| season|seconds_remaining|shot_distance|shot_made_flag|     shot_type|      shot_zone_area|     shot_zone_basic|shot_zone_range| game_date|local|opponent|shot_id|\n",
      "+-----------------+------------------+-------------+--------+-----+-----+-----------------+------+--------+-------+-----------------+-------------+--------------+--------------+--------------------+--------------------+---------------+----------+-----+--------+-------+\n",
      "|        Jump Shot|         Jump Shot|           12|20000012| -157|    0|               10|     1|       0|2000-01|               22|           15|             0|2PT Field Goal|        Left Side(L)|           Mid-Range|       8-16 ft.|2000-10-31|    0|     POR|      2|\n",
      "|        Jump Shot|         Jump Shot|           35|20000012| -101|  135|                7|     1|       0|2000-01|               45|           16|             1|2PT Field Goal|Left Side Center(LC)|           Mid-Range|      16-24 ft.|2000-10-31|    0|     POR|      3|\n",
      "|        Jump Shot|         Jump Shot|           43|20000012|  138|  175|                6|     1|       0|2000-01|               52|           22|             0|2PT Field Goal|Right Side Center...|           Mid-Range|      16-24 ft.|2000-10-31|    0|     POR|      4|\n",
      "|Driving Dunk Shot|              Dunk|          155|20000012|    0|    0|                6|     2|       0|2000-01|               19|            0|             1|2PT Field Goal|           Center(C)|     Restricted Area|Less Than 8 ft.|2000-10-31|    0|     POR|      5|\n",
      "|        Jump Shot|         Jump Shot|          244|20000012| -145|  -11|                9|     3|       0|2000-01|               32|           14|             0|2PT Field Goal|        Left Side(L)|           Mid-Range|       8-16 ft.|2000-10-31|    0|     POR|      6|\n",
      "|       Layup Shot|             Layup|          251|20000012|    0|    0|                8|     3|       0|2000-01|               52|            0|             1|2PT Field Goal|           Center(C)|     Restricted Area|Less Than 8 ft.|2000-10-31|    0|     POR|      7|\n",
      "|        Jump Shot|         Jump Shot|          265|20000012|  -65|  108|                6|     3|       0|2000-01|               12|           12|             1|2PT Field Goal|        Left Side(L)|In The Paint (Non...|       8-16 ft.|2000-10-31|    0|     POR|      9|\n",
      "|Running Jump Shot|         Jump Shot|          294|20000012|  -33|  125|                3|     3|       0|2000-01|               36|           12|             0|2PT Field Goal|           Center(C)|In The Paint (Non...|       8-16 ft.|2000-10-31|    0|     POR|     10|\n",
      "|        Jump Shot|         Jump Shot|          309|20000012|  -94|  238|                1|     3|       0|2000-01|               56|           25|             0|3PT Field Goal|Left Side Center(LC)|   Above the Break 3|        24+ ft.|2000-10-31|    0|     POR|     11|\n",
      "|        Jump Shot|         Jump Shot|            4|20000019|  121|  127|               11|     1|       0|2000-01|                0|           17|             1|2PT Field Goal|Right Side Center...|           Mid-Range|      16-24 ft.|2000-11-01|    1|     UTA|     12|\n",
      "|Running Jump Shot|         Jump Shot|           27|20000019|  -67|  110|                7|     1|       0|2000-01|                9|           12|             1|2PT Field Goal|        Left Side(L)|In The Paint (Non...|       8-16 ft.|2000-11-01|    1|     UTA|     13|\n",
      "|        Jump Shot|         Jump Shot|           66|20000019|  -94|    4|                2|     1|       0|2000-01|               44|            9|             0|2PT Field Goal|        Left Side(L)|           Mid-Range|       8-16 ft.|2000-11-01|    1|     UTA|     14|\n",
      "|        Jump Shot|         Jump Shot|           80|20000019|  -23|   47|                1|     1|       0|2000-01|               16|            5|             0|2PT Field Goal|           Center(C)|In The Paint (Non...|Less Than 8 ft.|2000-11-01|    1|     UTA|     15|\n",
      "|        Jump Shot|         Jump Shot|           86|20000019|   62|  192|                0|     1|       0|2000-01|               48|           20|             0|2PT Field Goal|           Center(C)|           Mid-Range|      16-24 ft.|2000-11-01|    1|     UTA|     16|\n",
      "|        Jump Shot|         Jump Shot|          138|20000019| -117|  226|                8|     2|       0|2000-01|               50|           25|             1|3PT Field Goal|Left Side Center(LC)|   Above the Break 3|        24+ ft.|2000-11-01|    1|     UTA|     18|\n",
      "|        Jump Shot|         Jump Shot|          244|20000019| -132|   97|               11|     3|       0|2000-01|               29|           16|             0|2PT Field Goal|Left Side Center(LC)|           Mid-Range|      16-24 ft.|2000-11-01|    1|     UTA|     19|\n",
      "|        Jump Shot|         Jump Shot|          255|20000019|    3|  144|               10|     3|       0|2000-01|                8|           14|             0|2PT Field Goal|           Center(C)|           Mid-Range|       8-16 ft.|2000-11-01|    1|     UTA|     21|\n",
      "|        Jump Shot|         Jump Shot|          265|20000019|  134|  127|                9|     3|       0|2000-01|                4|           18|             0|2PT Field Goal|Right Side Center...|           Mid-Range|      16-24 ft.|2000-11-01|    1|     UTA|     22|\n",
      "|Running Jump Shot|         Jump Shot|          274|20000019|  -16|  110|                7|     3|       0|2000-01|               57|           11|             1|2PT Field Goal|           Center(C)|In The Paint (Non...|       8-16 ft.|2000-11-01|    1|     UTA|     23|\n",
      "|Running Jump Shot|         Jump Shot|          299|20000019| -109|  150|                5|     3|       0|2000-01|               47|           18|             1|2PT Field Goal|Left Side Center(LC)|           Mid-Range|      16-24 ft.|2000-11-01|    1|     UTA|     24|\n",
      "+-----------------+------------------+-------------+--------+-----+-----+-----------------+------+--------+-------+-----------------+-------------+--------------+--------------+--------------------+--------------------+---------------+----------+-----+--------+-------+\n",
      "only showing top 20 rows\n",
      "\n"
     ]
    }
   ],
   "source": [
    "raw_data_df.show()"
   ]
  },
  {
   "cell_type": "code",
   "execution_count": 65,
   "metadata": {
    "collapsed": false,
    "deletable": true,
    "editable": true
   },
   "outputs": [
    {
     "name": "stderr",
     "output_type": "stream",
     "text": [
      "/opt/conda/envs/python2/lib/python2.7/site-packages/ipykernel/__main__.py:9: SettingWithCopyWarning: \n",
      "A value is trying to be set on a copy of a slice from a DataFrame.\n",
      "Try using .loc[row_indexer,col_indexer] = value instead\n",
      "\n",
      "See the caveats in the documentation: http://pandas.pydata.org/pandas-docs/stable/indexing.html#indexing-view-versus-copy\n"
     ]
    }
   ],
   "source": [
    "#%% cluster the shot attempts of kobe using GMM on their location\n",
    "\n",
    "numGaussians = 13\n",
    "gaussianMixtureModel = mixture.GMM(n_components=numGaussians, covariance_type='full', \n",
    "                                   params='wmc', init_params='wmc',\n",
    "                                   random_state=1, n_init=3,  verbose=0)\n",
    "gaussianMixtureModel.fit(kobe_Data_df_na_dropped.ix[:,['loc_x','loc_y']])\n",
    "\n",
    "kobe_Data_df_na_dropped['shotLocationCluster'] = gaussianMixtureModel.predict(kobe_Data_df_na_dropped.ix[:,['loc_x','loc_y']])"
   ]
  },
  {
   "cell_type": "markdown",
   "metadata": {
    "deletable": true,
    "editable": true
   },
   "source": [
    "El cluster se forma en base a la posicion de los tiros (ver si podemos meter los clusters que hiciste vos ivan aca) https://www.kaggle.com/selfishgene/psychology-of-a-professional-athlete"
   ]
  },
  {
   "cell_type": "code",
   "execution_count": 66,
   "metadata": {
    "collapsed": true,
    "deletable": true,
    "editable": true
   },
   "outputs": [],
   "source": [
    "\n",
    "def draw_court(ax=None, color='black', lw=2, outer_lines=False):\n",
    "    # If an axes object isn't provided to plot onto, just get current one\n",
    "    if ax is None:\n",
    "        ax = plt.gca()\n",
    "\n",
    "    # Create the various parts of an NBA basketball court\n",
    "\n",
    "    # Create the basketball hoop\n",
    "    # Diameter of a hoop is 18\" so it has a radius of 9\", which is a value\n",
    "    # 7.5 in our coordinate system\n",
    "    hoop = Circle((0, 0), radius=7.5, linewidth=lw, color=color, fill=False)\n",
    "\n",
    "    # Create backboard\n",
    "    backboard = Rectangle((-30, -7.5), 60, -1, linewidth=lw, color=color)\n",
    "\n",
    "    # The paint\n",
    "    # Create the outer box 0f the paint, width=16ft, height=19ft\n",
    "    outer_box = Rectangle((-80, -47.5), 160, 190, linewidth=lw, color=color,\n",
    "                          fill=False)\n",
    "    # Create the inner box of the paint, widt=12ft, height=19ft\n",
    "    inner_box = Rectangle((-60, -47.5), 120, 190, linewidth=lw, color=color,\n",
    "                          fill=False)\n",
    "\n",
    "    # Create free throw top arc\n",
    "    top_free_throw = Arc((0, 142.5), 120, 120, theta1=0, theta2=180,\n",
    "                         linewidth=lw, color=color, fill=False)\n",
    "    # Create free throw bottom arc\n",
    "    bottom_free_throw = Arc((0, 142.5), 120, 120, theta1=180, theta2=0,\n",
    "                            linewidth=lw, color=color, linestyle='dashed')\n",
    "    # Restricted Zone, it is an arc with 4ft radius from center of the hoop\n",
    "    restricted = Arc((0, 0), 80, 80, theta1=0, theta2=180, linewidth=lw,\n",
    "                     color=color)\n",
    "\n",
    "    # Three point line\n",
    "    # Create the side 3pt lines, they are 14ft long before they begin to arc\n",
    "    corner_three_a = Rectangle((-220, -47.5), 0, 140, linewidth=lw,\n",
    "                               color=color)\n",
    "    corner_three_b = Rectangle((220, -47.5), 0, 140, linewidth=lw, color=color)\n",
    "    # 3pt arc - center of arc will be the hoop, arc is 23'9\" away from hoop\n",
    "    # I just played around with the theta values until they lined up with the \n",
    "    # threes\n",
    "    three_arc = Arc((0, 0), 475, 475, theta1=22, theta2=158, linewidth=lw,\n",
    "                    color=color)\n",
    "\n",
    "    # Center Court\n",
    "    center_outer_arc = Arc((0, 422.5), 120, 120, theta1=180, theta2=0,\n",
    "                           linewidth=lw, color=color)\n",
    "    center_inner_arc = Arc((0, 422.5), 40, 40, theta1=180, theta2=0,\n",
    "                           linewidth=lw, color=color)\n",
    "\n",
    "    # List of the court elements to be plotted onto the axes\n",
    "    court_elements = [hoop, backboard, outer_box, inner_box, top_free_throw,\n",
    "                      bottom_free_throw, restricted, corner_three_a,\n",
    "                      corner_three_b, three_arc, center_outer_arc,\n",
    "                      center_inner_arc]\n",
    "\n",
    "    if outer_lines:\n",
    "        # Draw the half court line, baseline and side out bound lines\n",
    "        outer_lines = Rectangle((-250, -47.5), 500, 470, linewidth=lw,\n",
    "                                color=color, fill=False)\n",
    "        court_elements.append(outer_lines)\n",
    "\n",
    "    # Add the court elements onto the axes\n",
    "    for element in court_elements:\n",
    "        ax.add_patch(element)\n",
    "\n",
    "    return ax\n",
    "\n",
    "def Draw2DGaussians(gaussianMixtureModel, ellipseColors, ellipseTextMessages):\n",
    "    \n",
    "    fig, h = plt.subplots();\n",
    "    for i, (mean, covarianceMatrix) in enumerate(zip(gaussianMixtureModel.means_, gaussianMixtureModel._get_covars())):\n",
    "        # get the eigen vectors and eigen values of the covariance matrix\n",
    "        v, w = np.linalg.eigh(covarianceMatrix)\n",
    "        v = 2.5*np.sqrt(v) # go to units of standard deviation instead of variance\n",
    "        \n",
    "        # calculate the ellipse angle and two axis length and draw it\n",
    "        u = w[0] / np.linalg.norm(w[0])    \n",
    "        angle = np.arctan(u[1] / u[0])\n",
    "        angle = 180 * angle / np.pi  # convert to degrees\n",
    "        currEllipse = mpl.patches.Ellipse(mean, v[0], v[1], 180 + angle, color=ellipseColors[i])\n",
    "        currEllipse.set_alpha(0.5)\n",
    "        h.add_artist(currEllipse)\n",
    "        h.text(mean[0]+7, mean[1]-1, ellipseTextMessages[i], fontsize=12)\n"
   ]
  },
  {
   "cell_type": "code",
   "execution_count": 68,
   "metadata": {
    "collapsed": false,
    "deletable": true,
    "editable": true,
    "scrolled": true
   },
   "outputs": [
    {
     "data": {
      "text/plain": [
       "<matplotlib.text.Text at 0x7f06977fd090>"
      ]
     },
     "execution_count": 68,
     "metadata": {},
     "output_type": "execute_result"
    },
    {
     "data": {
      "image/png": "[encoded data removed]",
      "text/plain": [
       "<matplotlib.figure.Figure at 0x7f0692db3690>"
      ]
     },
     "metadata": {},
     "output_type": "display_data"
    }
   ],
   "source": [
    "#%% for each cluster, calculate it's individual accuracy and plot it\n",
    "\n",
    "plt.rcParams['figure.figsize'] = (11, 8)\n",
    "\n",
    "variableCategories = kobe_Data_df_na_dropped['shotLocationCluster'].value_counts().index.tolist()\n",
    "\n",
    "clusterAccuracy = {}\n",
    "for category in variableCategories:\n",
    "    shotsAttempted = np.array(kobe_Data_df_na_dropped['shotLocationCluster'] == category).sum()\n",
    "    shotsMade = np.array(kobe_Data_df_na_dropped.ix[kobe_Data_df_na_dropped['shotLocationCluster'] == category,'shot_made_flag'] == 1).sum()\n",
    "    clusterAccuracy[category] = float(shotsMade)/shotsAttempted\n",
    "ellipseColors = ['red','green','purple','cyan','magenta','yellow','blue','orange','silver','maroon','lime','olive','brown','darkblue']\n",
    "ellipseTextMessages = [str(100*clusterAccuracy[x])[:4]+'%' for x in range(numGaussians)]\n",
    "Draw2DGaussians(gaussianMixtureModel, ellipseColors, ellipseTextMessages)\n",
    "draw_court(outer_lines=True); plt.ylim(-60,440); plt.xlim(270,-270); plt.title('shot accuracy')"
   ]
  },
  {
   "cell_type": "markdown",
   "metadata": {
    "deletable": true,
    "editable": true
   },
   "source": [
    "Dado el resultado anterior, es evidente que la zona de la cancha de la que tire el jugador en cuestion es muy relevante (centro medio izquierda pintura) los clusters que se formaron matchean muy bien con la grafica de los tiros de al cancha que vimos antes. Las zonas mas densas de antes formaron sus propios clusters mientras que los tiros desde muy lejos formaron otros. "
   ]
  },
  {
   "cell_type": "markdown",
   "metadata": {
    "deletable": true,
    "editable": true
   },
   "source": [
    "Si miramos los features minutes_remaining y seconds_remaining lo cual es un poco extrano. Analizando el data quality report vemos que el maximo de minutos es 11 y el de segundos 59 por lo que podemos entender que remaining_feature significa la cantidad de minutos que faltan para terminar el cuarto y seconds_remaining, la cantidad de segundos dentro de ese minuto que faltan. Tenemos un feature el cual es period que nos dice en que cuarto es que sucede el tiro. A medida que pasan los cuartos, el cansancio es mayor y por eso es importante mantener este feature para que refleje ese posible cansancio.\n",
    "\n",
    "Llevemos esos dos features a uno solo que sea la cantidad de segundos del cuarto que faltan para terminar el cuarto."
   ]
  },
  {
   "cell_type": "code",
   "execution_count": null,
   "metadata": {
    "collapsed": true,
    "deletable": true,
    "editable": true
   },
   "outputs": [],
   "source": [
    "kobe_Data_df_na_some_columns_dropped['remaining_time_quarter(seconds)'] = kobe_Data_df_na_some_columns_dropped['minutes_remaining'] * 60 + kobe_Data_df_na_some_columns_dropped['seconds_remaining']"
   ]
  },
  {
   "cell_type": "code",
   "execution_count": null,
   "metadata": {
    "collapsed": false,
    "deletable": true,
    "editable": true
   },
   "outputs": [],
   "source": [
    "kobe_Data_df_na_some_columns_dropped = kobe_Data_df_na_some_columns_dropped.drop('minutes_remaining', 1)\n",
    "kobe_Data_df_na_some_columns_dropped = kobe_Data_df_na_some_columns_dropped.drop('seconds_remaining', 1)"
   ]
  },
  {
   "cell_type": "markdown",
   "metadata": {
    "deletable": true,
    "editable": true
   },
   "source": [
    "A su vez, si analizamos los features matchup y opponent vemos que lo que en realidad nos interesa es si esta jugando de local o visitante y el oponente por lo tanto vamos a transformar matchup a una columna que es 1 si esta jugando de visitante y 0 si esta jugando de local"
   ]
  },
  {
   "cell_type": "code",
   "execution_count": null,
   "metadata": {
    "collapsed": false,
    "deletable": true,
    "editable": true
   },
   "outputs": [],
   "source": [
    "class matchUpTransformer(Transformer, HasInputCol, HasOutputCol): \n",
    "    @keyword_only\n",
    "    def __init__(self, inputCol=None, outputCol=None):\n",
    "        super(matchUpTransformer, self).__init__()\n",
    "        kwargs = self.__init__._input_kwargs\n",
    "        self.setParams(**kwargs)\n",
    "        \n",
    "    @keyword_only \n",
    "    def setParams(self, inputCol=None, outputCol=None):\n",
    "        kwargs = self.setParams._input_kwargs\n",
    "        return self._set(**kwargs)\n",
    "        \n",
    "    def _transform(self, dataset):\n",
    "        in_col = dataset[self.getInputCol()]\n",
    "        out_col = self.getOutputCol()\n",
    "        udf = UserDefinedFunction(lambda x: clean_value_Match_Up(x),IntegerType())\n",
    "        return dataset.withColumn(out_col, udf(in_col))\n",
    "\n",
    "def clean_value_Match_Up(in_value):\n",
    "    if (in_value):\n",
    "        if \"@\" in in_value.strip():\n",
    "            return 1\n",
    "        else:\n",
    "            return 0\n",
    "    else:\n",
    "        return 'error missing value not expected'"
   ]
  },
  {
   "cell_type": "code",
   "execution_count": null,
   "metadata": {
    "collapsed": true,
    "deletable": true,
    "editable": true
   },
   "outputs": [],
   "source": [
    "match_up_transformer = matchUpTransformer(inputCol='matchup', outputCol='matchup_transformer')"
   ]
  },
  {
   "cell_type": "code",
   "execution_count": null,
   "metadata": {
    "collapsed": false,
    "deletable": true,
    "editable": true
   },
   "outputs": [],
   "source": [
    "kobe_Data_df_na_some_columns_dropped = match_up_transformer.transform(kobe_Data_df_na_some_columns_dropped)"
   ]
  },
  {
   "cell_type": "code",
   "execution_count": null,
   "metadata": {
    "collapsed": false,
    "deletable": true,
    "editable": true
   },
   "outputs": [],
   "source": [
    "kobe_Data_df_na_some_columns_dropped"
   ]
  },
  {
   "cell_type": "markdown",
   "metadata": {
    "deletable": true,
    "editable": true
   },
   "source": [
    "El feature playoff tambien es relevante dado que generalmente en los play"
   ]
  },
  {
   "cell_type": "markdown",
   "metadata": {
    "deletable": true,
    "editable": true
   },
   "source": [
    "En un principio, el feature shot_zone_basic lo vamos a dejar porque mas alla de que tenemos la distancia y angulo al aro, estas zonas pueden marcale al modelo informacion relevante porque podria juntar los tiros dentro de mid-range, por ejemplo, en un rango de distancias. Despues le sacaremos esta variable para ver si mejora el arbol. Tambien, creemos que con el resultado del clustering y este dato tambien tienen mucho en comun lo que nos da otra razon para eliminarlo.\n",
    "\n",
    "En cambio, la variable shot_zone_range no parece util porque como marca el grafico son medios anillos concentricos con el aro, que dadas las coordenadas polares no parecen aportar informacion.\n",
    "\n",
    "(hacer graficas de ambos para explicar)"
   ]
  },
  {
   "cell_type": "code",
   "execution_count": null,
   "metadata": {
    "collapsed": false,
    "deletable": true,
    "editable": true
   },
   "outputs": [],
   "source": [
    "import matplotlib.cm as cm\n",
    "plt.figure(figsize=(20,10))\n",
    "\n",
    "def scatter_plot_by_category(dataframe, feature):\n",
    "    alpha = 0.1\n",
    "    groups = dataframe.groupby(feature)\n",
    "    cs = cm.rainbow(np.linspace(0, 1, len(groups)))\n",
    "    for g, c in zip(groups, cs):\n",
    "        plt.scatter(g[1].loc_x, g[1].loc_y, color=c, alpha=alpha)\n",
    "\n",
    "# shot_zone_area\n",
    "plt.subplot(131)\n",
    "scatter_plot_by_category(kobe_Data_df_na_some_columns_dropped, 'shot_zone_area')\n",
    "plt.title('shot_zone_area')\n",
    "\n",
    "# shot_zone_basic\n",
    "plt.subplot(132)\n",
    "scatter_plot_by_category(kobe_Data_df_na_some_columns_dropped, 'shot_zone_basic')\n",
    "plt.title('shot_zone_basic')\n",
    "\n",
    "# shot_zone_range\n",
    "plt.subplot(133)\n",
    "scatter_plot_by_category(kobe_Data_df_na_some_columns_dropped, 'shot_zone_range')\n",
    "plt.title('shot_zone_range')"
   ]
  },
  {
   "cell_type": "code",
   "execution_count": null,
   "metadata": {
    "collapsed": false,
    "deletable": true,
    "editable": true
   },
   "outputs": [],
   "source": [
    "kobe_Data_df_na_some_columns_dropped.head()\n"
   ]
  },
  {
   "cell_type": "code",
   "execution_count": null,
   "metadata": {
    "collapsed": false,
    "deletable": true,
    "editable": true
   },
   "outputs": [],
   "source": [
    "kobe_Data_df_na_some_columns_dropped.describe(include=['O'])"
   ]
  },
  {
   "cell_type": "code",
   "execution_count": null,
   "metadata": {
    "collapsed": false,
    "deletable": true,
    "editable": true
   },
   "outputs": [],
   "source": [
    "cols_categoric = [ \"action_type\", \"combined_shot_type\", \"season\", \"shot_type\", \"shot_zone_area\", \"shot_zone_basic\", \"shot_zone_range\", \"game_date\", \"matchup\", \"opponent\"]\n",
    "df_dummies = pd.get_dummies(columns=cols_categoric)\n",
    "kobe_Data_with_idx = kobe_Data_df_na_some_columns_dropped.join(df_dummies, how='outer')"
   ]
  },
  {
   "cell_type": "code",
   "execution_count": null,
   "metadata": {
    "collapsed": false,
    "deletable": true,
    "editable": true
   },
   "outputs": [],
   "source": [
    "cat_columns = kobe_Data_df_na_some_columns_dropped.select_dtypes(['O']).columns\n",
    "kobe_Data_df_na_some_columns_dropped[cat_columns] = kobe_Data_df_na_some_columns_dropped[cat_columns].astype('category')\n",
    "kobe_Data_df_na_some_columns_dropped[cat_columns] = kobe_Data_df_na_some_columns_dropped[cat_columns].apply(lambda x: x.cat.codes)"
   ]
  },
  {
   "cell_type": "code",
   "execution_count": null,
   "metadata": {
    "collapsed": false,
    "deletable": true,
    "editable": true
   },
   "outputs": [],
   "source": [
    "kobe_Data_df_na_some_columns_dropped.select_dtypes(['O']).columns"
   ]
  },
  {
   "cell_type": "code",
   "execution_count": null,
   "metadata": {
    "collapsed": true,
    "deletable": true,
    "editable": true
   },
   "outputs": [],
   "source": []
  }
 ],
 "metadata": {
  "kernelspec": {
   "display_name": "Python 2",
   "language": "python",
   "name": "python2"
  },
  "language_info": {
   "codemirror_mode": {
    "name": "ipython",
    "version": 2
   },
   "file_extension": ".py",
   "mimetype": "text/x-python",
   "name": "python",
   "nbconvert_exporter": "python",
   "pygments_lexer": "ipython2",
   "version": "2.7.12"
  }
 },
 "nbformat": 4,
 "nbformat_minor": 2
}
